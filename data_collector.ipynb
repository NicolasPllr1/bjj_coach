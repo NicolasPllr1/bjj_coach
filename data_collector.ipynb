{
 "cells": [
  {
   "cell_type": "markdown",
   "metadata": {},
   "source": [
    "# Scrapping Instagram"
   ]
  },
  {
   "cell_type": "markdown",
   "metadata": {},
   "source": [
    "See Intsloader"
   ]
  },
  {
   "cell_type": "code",
   "execution_count": null,
   "metadata": {},
   "outputs": [],
   "source": [
    "#! instaloader danaherjohn --no-pictures --no-videos --no-pictures --no-video-thumbnails --no-metadata-json"
   ]
  },
  {
   "cell_type": "code",
   "execution_count": 18,
   "metadata": {},
   "outputs": [],
   "source": [
    "import os\n",
    "import pandas as pd"
   ]
  },
  {
   "cell_type": "code",
   "execution_count": 12,
   "metadata": {},
   "outputs": [],
   "source": [
    "danaher_data_path = './danaherjohn/'\n",
    "danaher_data = []\n",
    "\n",
    "for filename in os.listdir(danaher_data_path):\n",
    "    if filename.endswith(\".txt\"):\n",
    "        file_path = os.path.join(danaher_data_path, filename)\n",
    "        \n",
    "        # Open the .txt file and read its content\n",
    "        with open(file_path, 'r') as file:\n",
    "            content = file.read()\n",
    "            \n",
    "        # Append the content to the file_contents list\n",
    "        danaher_data.append(content)\n",
    "nb_words = len([word for sentence in danaher_data for word in sentence.split()])\n"
   ]
  },
  {
   "cell_type": "code",
   "execution_count": 17,
   "metadata": {},
   "outputs": [
    {
     "name": "stdout",
     "output_type": "stream",
     "text": [
      "1196 post captions have been collected with a total of 208321 words\n",
      "Example : \n",
      "Angle, angle and more angle: The single best place to be in combat sports is directly behind your opponent. However, it’s very difficult to get behind someone with skills since they’ve been taught from the first day never to concede their back. So typically you’ll have to work with ANGLE - where you move away from frontal positions and off line to the side - it’s not as dramatic and decisive as the back, buts in most cases it’s more than enough to get good work done or at least create a reaction that’ll enable you to attack successfully. Make a habit of creating angle on opponents - it doesn’t always have to be a huge angular change, often even a small change in angle can create impressive results. As your opponent tries to re-align himself with you there will be a window of opportunity for you to enter. You’ll find that the game becomes a lot easier when you attack from angle rather than straight through the front door\n",
      "\n"
     ]
    }
   ],
   "source": [
    "print(f\"{len(danaher_data)} post captions have been collected with a total of {nb_words} words\")\n",
    "print(f\"Example : \\n{danaher_data[0]}\")"
   ]
  },
  {
   "cell_type": "code",
   "execution_count": 19,
   "metadata": {},
   "outputs": [
    {
     "data": {
      "text/html": [
       "<div>\n",
       "<style scoped>\n",
       "    .dataframe tbody tr th:only-of-type {\n",
       "        vertical-align: middle;\n",
       "    }\n",
       "\n",
       "    .dataframe tbody tr th {\n",
       "        vertical-align: top;\n",
       "    }\n",
       "\n",
       "    .dataframe thead th {\n",
       "        text-align: right;\n",
       "    }\n",
       "</style>\n",
       "<table border=\"1\" class=\"dataframe\">\n",
       "  <thead>\n",
       "    <tr style=\"text-align: right;\">\n",
       "      <th></th>\n",
       "      <th>caption</th>\n",
       "    </tr>\n",
       "  </thead>\n",
       "  <tbody>\n",
       "    <tr>\n",
       "      <th>0</th>\n",
       "      <td>Angle, angle and more angle: The single best p...</td>\n",
       "    </tr>\n",
       "    <tr>\n",
       "      <th>1</th>\n",
       "      <td>Whatever skill level you are today will be 70%...</td>\n",
       "    </tr>\n",
       "    <tr>\n",
       "      <th>2</th>\n",
       "      <td>Jiu Jitsu mindset: A question I am often asked...</td>\n",
       "    </tr>\n",
       "    <tr>\n",
       "      <th>3</th>\n",
       "      <td>The long way home: Back at Changi Airport in S...</td>\n",
       "    </tr>\n",
       "    <tr>\n",
       "      <th>4</th>\n",
       "      <td>When the action is is exhausting and your tire...</td>\n",
       "    </tr>\n",
       "  </tbody>\n",
       "</table>\n",
       "</div>"
      ],
      "text/plain": [
       "                                             caption\n",
       "0  Angle, angle and more angle: The single best p...\n",
       "1  Whatever skill level you are today will be 70%...\n",
       "2  Jiu Jitsu mindset: A question I am often asked...\n",
       "3  The long way home: Back at Changi Airport in S...\n",
       "4  When the action is is exhausting and your tire..."
      ]
     },
     "execution_count": 19,
     "metadata": {},
     "output_type": "execute_result"
    }
   ],
   "source": [
    "# Save the data in a csv file\n",
    "df = pd.DataFrame(danaher_data, columns=['caption'])\n",
    "df.head()"
   ]
  },
  {
   "cell_type": "code",
   "execution_count": 20,
   "metadata": {},
   "outputs": [],
   "source": [
    "df.to_csv('danaher_data.csv', index=False)"
   ]
  },
  {
   "cell_type": "code",
   "execution_count": null,
   "metadata": {},
   "outputs": [],
   "source": []
  }
 ],
 "metadata": {
  "kernelspec": {
   "display_name": "BJJCoach",
   "language": "python",
   "name": "python3"
  },
  "language_info": {
   "codemirror_mode": {
    "name": "ipython",
    "version": 3
   },
   "file_extension": ".py",
   "mimetype": "text/x-python",
   "name": "python",
   "nbconvert_exporter": "python",
   "pygments_lexer": "ipython3",
   "version": "3.11.4"
  }
 },
 "nbformat": 4,
 "nbformat_minor": 2
}
